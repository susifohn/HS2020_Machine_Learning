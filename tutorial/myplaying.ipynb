{
 "cells": [
  {
   "cell_type": "markdown",
   "metadata": {},
   "source": [
    "# Functional margins"
   ]
  },
  {
   "cell_type": "code",
   "execution_count": 24,
   "metadata": {},
   "outputs": [
    {
     "name": "stdout",
     "output_type": "stream",
     "text": [
      "y = [ 1  1 -1 -1]\n",
      "x = [4 6 1 2]\n"
     ]
    },
    {
     "data": {
      "text/plain": [
       "[<matplotlib.lines.Line2D at 0x1fbe84664f0>]"
      ]
     },
     "execution_count": 24,
     "metadata": {},
     "output_type": "execute_result"
    },
    {
     "data": {
      "image/png": "[encoded data removed]",
      "text/plain": [
       "<Figure size 432x288 with 1 Axes>"
      ]
     },
     "metadata": {
      "needs_background": "light"
     },
     "output_type": "display_data"
    }
   ],
   "source": [
    "import numpy as np\n",
    "import matplotlib.pyplot as plt\n",
    "\n",
    "\n",
    "y = np.array([1,1,-1,-1])\n",
    "x = np.array([[4,5],\n",
    "             [6,3],\n",
    "             [1,2],\n",
    "             [2,1]])\n",
    "\n",
    "print('y =', y)\n",
    "print('x =', x[:,0])\n",
    "xa = np.array([1,2,3])\n",
    "xb = np.array([4,2,8])\n",
    "plt.scatter(x[:,0], x[:,1], s=30, facecolors='r', edgecolors='r')\n",
    "x = np.arange(0, 6)\n",
    "y = -5/6*x+4\n",
    "\n",
    "# Plot the points using matplotlib\n",
    "plt.plot(x, y)\n"
   ]
  },
  {
   "cell_type": "markdown",
   "metadata": {},
   "source": [
    "# SVM with numpy sklearn\n",
    "https://scikit-learn.org/stable/modules/svm.html"
   ]
  },
  {
   "cell_type": "code",
   "execution_count": 23,
   "metadata": {},
   "outputs": [
    {
     "data": {
      "text/plain": [
       "SVC()"
      ]
     },
     "execution_count": 23,
     "metadata": {},
     "output_type": "execute_result"
    }
   ],
   "source": [
    "from sklearn import svm\n",
    "X = [[0, 0], [1, 1]]\n",
    "y = [0, 1]\n",
    "clf = svm.SVC()\n",
    "clf.fit(X, y)\n",
    "svm.SVC()"
   ]
  },
  {
   "cell_type": "markdown",
   "metadata": {},
   "source": [
    "After being fitted, the model can then be used to predict new values:"
   ]
  },
  {
   "cell_type": "code",
   "execution_count": 135,
   "metadata": {},
   "outputs": [
    {
     "data": {
      "text/plain": [
       "array([1])"
      ]
     },
     "execution_count": 135,
     "metadata": {},
     "output_type": "execute_result"
    }
   ],
   "source": [
    "clf.predict([[2., 2.]])\n"
   ]
  },
  {
   "cell_type": "markdown",
   "metadata": {},
   "source": [
    "SVMs decision function (detailed in the Mathematical formulation) depends on some subset of the training data, called the support vectors. Some properties of these support vectors can be found in attributes support_vectors_, support_ and n_support_:"
   ]
  },
  {
   "cell_type": "code",
   "execution_count": 25,
   "metadata": {},
   "outputs": [
    {
     "ename": "NameError",
     "evalue": "name 'array' is not defined",
     "output_type": "error",
     "traceback": [
      "\u001b[1;31m---------------------------------------------------------------------------\u001b[0m",
      "\u001b[1;31mNameError\u001b[0m                                 Traceback (most recent call last)",
      "\u001b[1;32m<ipython-input-25-c1390fea3daa>\u001b[0m in \u001b[0;36m<module>\u001b[1;34m\u001b[0m\n\u001b[0;32m      1\u001b[0m \u001b[1;31m# get support vectors\u001b[0m\u001b[1;33m\u001b[0m\u001b[1;33m\u001b[0m\u001b[1;33m\u001b[0m\u001b[0m\n\u001b[0;32m      2\u001b[0m \u001b[0mclf\u001b[0m\u001b[1;33m.\u001b[0m\u001b[0msupport_vectors_\u001b[0m\u001b[1;33m\u001b[0m\u001b[1;33m\u001b[0m\u001b[0m\n\u001b[1;32m----> 3\u001b[1;33m array([[0., 0.],\n\u001b[0m\u001b[0;32m      4\u001b[0m        [1., 1.]])\n\u001b[0;32m      5\u001b[0m \u001b[1;31m# get indices of support vectors\u001b[0m\u001b[1;33m\u001b[0m\u001b[1;33m\u001b[0m\u001b[1;33m\u001b[0m\u001b[0m\n",
      "\u001b[1;31mNameError\u001b[0m: name 'array' is not defined"
     ]
    }
   ],
   "source": [
    "# get support vectors\n",
    "clf.support_vectors_\n",
    "array([[0., 0.],\n",
    "       [1., 1.]])\n",
    "# get indices of support vectors\n",
    "clf.support_\n",
    "\n",
    "# get number of support vectors for each class\n",
    "clf.n_support_\n"
   ]
  },
  {
   "cell_type": "markdown",
   "metadata": {},
   "source": [
    "# Spectral Clustering\n",
    "The example data from https://de.wikipedia.org/wiki/Spektrales_Clustering"
   ]
  },
  {
   "cell_type": "code",
   "execution_count": 264,
   "metadata": {
    "scrolled": true
   },
   "outputs": [
    {
     "data": {
      "text/plain": [
       "<matplotlib.collections.PathCollection at 0x1fbeaf341f0>"
      ]
     },
     "execution_count": 264,
     "metadata": {},
     "output_type": "execute_result"
    },
    {
     "data": {
      "image/png": "[encoded data removed]",
      "text/plain": [
       "<Figure size 432x288 with 1 Axes>"
      ]
     },
     "metadata": {
      "needs_background": "light"
     },
     "output_type": "display_data"
    }
   ],
   "source": [
    "import matplotlib.pyplot as plt\n",
    "import numpy as np\n",
    "import time\n",
    "from sklearn.cluster import KMeans\n",
    "from sklearn.metrics import pairwise_distances\n",
    "\n",
    "X = np.array([[5,-3],[2,-4],[-2,-1],[-3,0],[-2,-2],[-2,4],[1,2],[1,4]])\n",
    "#X = np.array([[2,1,0], [4,5,-1],[1,1,1]])\n",
    "X, y = make_circles(n_samples=40, factor=0.5, noise=0.05)\n",
    "plt.scatter(X[:,0],X[:,1])       "
   ]
  },
  {
   "cell_type": "code",
   "execution_count": 274,
   "metadata": {},
   "outputs": [
    {
     "name": "stdout",
     "output_type": "stream",
     "text": [
      "assign  [1 1 0 1 1 0 0 1 0 1 0 0 1 1 1 0 1 1 0 1 0 1 0 1 1 1 0 0 1 0 0 0 0 0 0 1 0\n",
      " 1 0 1]\n",
      "Execution time: 0.040998220443725586s\n"
     ]
    }
   ],
   "source": [
    "# D the adjacency matrix with euclidean distance\n",
    "# S the radial kernel similiarites matrix\n",
    "# c the scalar parameter\n",
    "# k number of clusters\n",
    "k = 2\n",
    "c = 0.01\n",
    "\n",
    "start = time.time()\n",
    "\n",
    "D = np.zeros((X.shape[0],X.shape[0]))\n",
    "for i,vi in enumerate(X):\n",
    "    for j,vj in enumerate(X):\n",
    "        d = np.linalg.norm(vi-vj) # vi, vj the vertices in X\n",
    "        D[i,j]=d\n",
    "\n",
    "W = np.exp(-D*D/c) # the adjacency Matrix of edge weights\n",
    "g = np.array([np.sum(row) for row in W])\n",
    "G = np.diag(g)\n",
    "\n",
    "L = G-W  \n",
    "w,v = np.linalg.eig(L)\n",
    "\n",
    "i = np.argsort(w)[:k] # k first sorted indices\n",
    "# Z: A matrix of shape [n, k] with k eigenvectors corresponding to k smallest eigenvalues of L in columns\n",
    "Z = v[:,i]\n",
    "\n",
    "km = KMeans(n_clusters=k)\n",
    "assign = km.fit_predict(Z)\n",
    "print('assign ', assign)\n",
    "\n",
    "exec_time = time.time()-start\n",
    "print('Execution time: {}s'.format(exec_time))\n",
    "\n"
   ]
  },
  {
   "cell_type": "code",
   "execution_count": 275,
   "metadata": {
    "scrolled": true
   },
   "outputs": [
    {
     "data": {
      "image/png": "[encoded data removed]",
      "text/plain": [
       "<Figure size 1152x288 with 2 Axes>"
      ]
     },
     "metadata": {
      "needs_background": "light"
     },
     "output_type": "display_data"
    }
   ],
   "source": [
    "first_eigenvector = Z[:, 0]\n",
    "second_eigenvector = Z[:, 1]\n",
    "\n",
    "plt.figure(figsize=(16, 4))\n",
    "for i, v in enumerate([first_eigenvector, second_eigenvector]):\n",
    "    plt.subplot(1, 2, i + 1)\n",
    "    plt.scatter(np.arange(v.size), v)\n",
    "    plt.title(\"Eigenvector {}\".format(i + 1))"
   ]
  },
  {
   "cell_type": "code",
   "execution_count": 276,
   "metadata": {
    "scrolled": false
   },
   "outputs": [
    {
     "data": {
      "image/png": "[encoded data removed]",
      "text/plain": [
       "<Figure size 432x288 with 1 Axes>"
      ]
     },
     "metadata": {
      "needs_background": "light"
     },
     "output_type": "display_data"
    }
   ],
   "source": [
    "plt.clf()\n",
    "plt.scatter(X[:, 0], X[:, 1], c = assign)\n",
    "plt.title(\"Predicted clustering\")\n",
    "plt.show()"
   ]
  }
 ],
 "metadata": {
  "kernelspec": {
   "display_name": "Python 3",
   "language": "python",
   "name": "python3"
  },
  "language_info": {
   "codemirror_mode": {
    "name": "ipython",
    "version": 3
   },
   "file_extension": ".py",
   "mimetype": "text/x-python",
   "name": "python",
   "nbconvert_exporter": "python",
   "pygments_lexer": "ipython3",
   "version": "3.8.3"
  }
 },
 "nbformat": 4,
 "nbformat_minor": 4
}
