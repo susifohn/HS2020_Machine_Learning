{
 "cells": [
  {
   "cell_type": "markdown",
   "metadata": {},
   "source": [
    "# Assignment 2: Support Vector Machines\n",
    "\n",
    "In this assignment you will:\n",
    "* Implement a linear SVM via stochastic gradient descent\n",
    "* Do multi-class handwritten digit classification with off-the-shelf SVM solvers (with kernel functions)\n",
    "* Tune model hyper-parameters to achieve good generalisation"
   ]
  },
  {
   "cell_type": "markdown",
   "metadata": {},
   "source": [
    "# Part 1: Implement a linear SVM\n",
    "\n",
    "## Setup\n",
    "\n",
    "First import the required packages and do some setup:"
   ]
  },
  {
   "cell_type": "code",
   "execution_count": 7,
   "metadata": {},
   "outputs": [],
   "source": [
    "import time\n",
    "import numpy as np\n",
    "import matplotlib.pyplot as plt\n",
    "from scipy.io import loadmat, savemat\n",
    "from sklearn.model_selection import train_test_split\n",
    "from assignment2 import svm_loss, svm_gradient, svm_solver\n",
    "\n",
    "# Set default parameters for plots\n",
    "plt.rcParams['figure.figsize'] = (12.0, 6.0)\n",
    "plt.rcParams['image.interpolation'] = 'nearest'\n",
    "plt.rcParams['image.cmap'] = 'gray'\n",
    "\n",
    "%load_ext autoreload\n",
    "%autoreload 2"
   ]
  },
  {
   "cell_type": "markdown",
   "metadata": {},
   "source": [
    "Now load the face dataset. The labels are set to **-1 for non-face and 1 for face**."
   ]
  },
  {
   "cell_type": "code",
   "execution_count": 8,
   "metadata": {},
   "outputs": [],
   "source": [
    "# Load the dataset\n",
    "data = loadmat('faces.mat')\n",
    "labels = np.squeeze(data['Labels'])\n",
    "data = data['Data']"
   ]
  },
  {
   "cell_type": "markdown",
   "metadata": {},
   "source": [
    "Divide the dataset into train and test sets."
   ]
  },
  {
   "cell_type": "code",
   "execution_count": 9,
   "metadata": {
    "scrolled": true
   },
   "outputs": [
    {
     "name": "stdout",
     "output_type": "stream",
     "text": [
      "Training data shape:  (13882, 576)\n",
      "Training labels shape:  (13882,)\n",
      "Test data shape:  (5950, 576)\n",
      "Test labels shape:  (5950,)\n"
     ]
    }
   ],
   "source": [
    "X_train, X_test, y_train, y_test = train_test_split(data, labels, test_size=0.3)\n",
    "\n",
    "# As a sanity check, we print out the size of the training and test data.\n",
    "print('Training data shape: ', X_train.shape)\n",
    "print('Training labels shape: ', y_train.shape)\n",
    "print('Test data shape: ', X_test.shape)\n",
    "print('Test labels shape: ', y_test.shape)"
   ]
  },
  {
   "cell_type": "markdown",
   "metadata": {},
   "source": [
    "Visualize some examples to check that the data is fine:"
   ]
  },
  {
   "cell_type": "code",
   "execution_count": 10,
   "metadata": {},
   "outputs": [
    {
     "data": {
      "image/png": "[encoded data removed]",
      "text/plain": [
       "<Figure size 864x432 with 20 Axes>"
      ]
     },
     "metadata": {
      "needs_background": "light"
     },
     "output_type": "display_data"
    }
   ],
   "source": [
    "# Visualize some examples from the dataset.\n",
    "samples_per_class = 10\n",
    "classes = [-1, 1]\n",
    "train_imgs = np.reshape(X_train, [-1, 24, 24], order='F')\n",
    "\n",
    "for y, cls in enumerate(classes):\n",
    "    idxs = np.flatnonzero(np.equal(y_train, cls))\n",
    "    idxs = np.random.choice(idxs, samples_per_class, replace=False)\n",
    "    for i, idx in enumerate(idxs):\n",
    "        plt_idx = y * samples_per_class + i + 1\n",
    "        plt.subplot(len(classes), samples_per_class, plt_idx)\n",
    "        plt.imshow(train_imgs[idx])\n",
    "        plt.axis('off')\n",
    "        plt.title(cls)\n",
    "plt.show()"
   ]
  },
  {
   "cell_type": "markdown",
   "metadata": {},
   "source": [
    "## Exercise 1: The SVM loss function [15 Points]\n",
    "\n",
    "Recall the formulation of the SVM optimization problem as follows:\n",
    "\n",
    "\\begin{aligned}\n",
    "& \\min_{w, b}\n",
    "& & \\frac{1}{2}||w||^2 + C\\sum_{i=1}^m \\xi_i \\\\\n",
    "& \\ \\text{ s.t.}\n",
    "& & y^{(i)}(w^Tx^{(i)}+b) \\geq 1-\\xi_i, \\; i = 1, \\ldots, m \\\\\n",
    "& & & \\xi_i \\geq 0, \\; i = 1, \\ldots, m \\\\\n",
    "\\end{aligned}\n",
    "\n",
    "Let $f(x)=w^Tx+b$. The constraints can then be written as $y^{(i)}f(x^{(i)})\\geq 1-\\xi_i$. Together with the constraints $\\xi_i \\geq 0$ this leads to $\\xi_i=\\max(0, 1-y^{(i)}f(x^{(i)}))$. The above constraint optimization problem is therefore equivalent to the following **unconstraint** problem:\n",
    "\n",
    "\\begin{equation}\n",
    "\\min_{w, b} \\frac{\\lambda}{2}||w||^2 + \\frac{1}{m}\\sum_{i=1}^m \\max(0, 1-y^{(i)}f(x^{(i)}))\n",
    "\\end{equation}\n",
    "\n",
    "The first term in this objective is a regularization term (prevents overfitting) and the second term measures the classification loss. Here the parameter $\\lambda=1/C$ is a **hyper-parameter** that controls the relative weight of  both losses.\n",
    "\n",
    "\n",
    "**TODO**: Implement the **unconstrained** objective function for SVM in *svm_loss.py* according to the specifications.\n",
    "\n",
    "***HINT***: Consider again what you would expect with the provided values of w, b and C."
   ]
  },
  {
   "cell_type": "code",
   "execution_count": 11,
   "metadata": {
    "scrolled": true
   },
   "outputs": [
    {
     "name": "stdout",
     "output_type": "stream",
     "text": [
      "SVM-loss with initial parameters:  1.0\n"
     ]
    }
   ],
   "source": [
    "# Test your cost-function\n",
    "w_0 = np.zeros(X_train.shape[1])\n",
    "b_0 = 0.\n",
    "l_0 = svm_loss(w_0, b_0, X_train, y_train, 1.)\n",
    "print('SVM-loss with initial parameters: ', l_0)"
   ]
  },
  {
   "cell_type": "markdown",
   "metadata": {},
   "source": [
    "## Exercise 2: The SVM Gradient [15 Points]\n",
    "\n",
    "**TODO**: Implement the gradient of the above unconstrained objective w.r.t. to the parameters $w$ and $b$. The gradient will be computed on a mini-batch (i.e., a random subset of the training set).\n",
    "\n",
    "**Hint**: Don't worry about the fact that $\\max(0, 1-y^{(i)}f(x^{(i)}))$ is not differentiable at $1-y^{(i)}f(x^{(i)})=0$. Just pick a one-sided gradient (this is called a subgradient for convex functions)."
   ]
  },
  {
   "cell_type": "code",
   "execution_count": 12,
   "metadata": {
    "scrolled": false
   },
   "outputs": [
    {
     "name": "stdout",
     "output_type": "stream",
     "text": [
      "[0. 0. 0. 0. 0. 0. 0. 0. 0. 0.]\n",
      "0.0\n"
     ]
    }
   ],
   "source": [
    "# Test your implementation\n",
    "x_ = np.ones([2, 10])\n",
    "y_ = np.array([1, -1])\n",
    "w_0 = np.zeros(10)\n",
    "b_0 = 0.\n",
    "grad_w, grad_b = svm_gradient(w_0, b_0, x_, y_, 1.)\n",
    "print(grad_w)\n",
    "print(grad_b)"
   ]
  },
  {
   "cell_type": "markdown",
   "metadata": {},
   "source": [
    "## Exercise 3: The SVM Solver [20 Points]\n",
    "\n",
    "You will implement the **Pegasos** algorithm - a variant of SGD - to solve for the parameters $w$ and $b$. \n",
    "\n",
    "The algorithm was introduced in the following [Paper](http://ttic.uchicago.edu/~nati/Publications/PegasosMPB.pdf) (see Figure 2). It is essentially Stochastic Gradient Descent on mini-batches + a specific choice for the learning rate giving convergence guarantees. The required steps are outlined in **svm_solver.py**. For more details, please refer to the [Paper](http://ttic.uchicago.edu/~nati/Publications/PegasosMPB.pdf).\n",
    "\n",
    "**TODO**: Implement the Pegasos algorithm in **svm_solver.py** according to specs. \n",
    "\n",
    "***HINT***: You know what performance to expect from the previous assignment (maybe you need to tune the hyper-parameter **C**)"
   ]
  },
  {
   "cell_type": "code",
   "execution_count": 13,
   "metadata": {
    "scrolled": false
   },
   "outputs": [
    {
     "name": "stdout",
     "output_type": "stream",
     "text": [
      "Iter 5000/30000: cost = 1.1832011419060358  (0.0s)\n",
      "Iter 10000/30000: cost = 0.8677055574423223  (0.000997304916381836s)\n",
      "Iter 15000/30000: cost = 0.3384173920782437  (0.0s)\n",
      "Iter 20000/30000: cost = 0.35930181450794174  (0.0s)\n",
      "Iter 25000/30000: cost = 0.3254763058356711  (0.0009970664978027344s)\n",
      "Total exection time: 7.561394453048706s\n"
     ]
    },
    {
     "data": {
      "image/png": "[encoded data removed]",
      "text/plain": [
       "<Figure size 864x432 with 1 Axes>"
      ]
     },
     "metadata": {
      "needs_background": "light"
     },
     "output_type": "display_data"
    },
    {
     "name": "stdout",
     "output_type": "stream",
     "text": [
      "Accuracy train: 0.9276761273591702\n",
      "Accuracy test: 0.9196638655462185\n"
     ]
    }
   ],
   "source": [
    "# We'll meausure the execution time\n",
    "start = time.time()\n",
    "\n",
    "C = 0.1\n",
    "w, b = svm_solver(X_train, y_train, C, num_iter=30000, num_per_batch=64)\n",
    "\n",
    "exec_time = time.time()-start\n",
    "print('Total exection time: {}s'.format(exec_time))\n",
    "\n",
    "# We can have a look at what theta has learned to recognise as \"face\"\n",
    "plt.imshow(np.reshape(w, [24, 24], order='F'))\n",
    "plt.title('Learned w')\n",
    "plt.show()\n",
    "\n",
    "# Make predictions\n",
    "preds_train = np.ones_like(y_train) - 2 * (np.dot(X_train, w) + b < 0)\n",
    "preds_test = np.ones_like(y_test) - 2 * (np.dot(X_test, w) + b < 0)\n",
    "\n",
    "print('Accuracy train: {}'.format(np.mean(preds_train == y_train)))\n",
    "print('Accuracy test: {}'.format(np.mean(preds_test == y_test)))"
   ]
  },
  {
   "cell_type": "markdown",
   "metadata": {},
   "source": [
    "# Part 2: Multi-Class SVM\n",
    "\n",
    "In this second part of the assignment you will train a multi-class SVM on a dataset of handwritten digits.\n",
    "\n",
    "A seperate (withheld) test set will be used for the evaluation of your classifiers. It is therefore important that you take good care not to overfit and ensure that your models generalize to unseen data.\n",
    "\n",
    "\n",
    "## Setup\n",
    "\n",
    "First load and visualize some of the data:\n"
   ]
  },
  {
   "cell_type": "code",
   "execution_count": 14,
   "metadata": {
    "scrolled": false
   },
   "outputs": [
    {
     "data": {
      "image/png": "[encoded data removed]",
      "text/plain": [
       "<Figure size 864x432 with 50 Axes>"
      ]
     },
     "metadata": {
      "needs_background": "light"
     },
     "output_type": "display_data"
    }
   ],
   "source": [
    "import numpy as np\n",
    "import matplotlib.pyplot as plt\n",
    "\n",
    "classes = range(10)\n",
    "\n",
    "data = np.load('data.npy', allow_pickle=True, encoding='latin1')\n",
    "X = data[()]['X']\n",
    "y = data[()]['y']\n",
    "\n",
    "# Visualize some examples from the dataset.\n",
    "samples_per_class = 5\n",
    "imgs = np.reshape(X, [-1, 16, 16])\n",
    "labels = y\n",
    "\n",
    "for j, cls in enumerate(classes):\n",
    "    idxs = np.flatnonzero(np.equal(labels, cls))\n",
    "    idxs = np.random.choice(idxs, samples_per_class, replace=False)\n",
    "    for i, idx in enumerate(idxs):\n",
    "        plt_idx = j * samples_per_class + i + 1\n",
    "        plt.subplot(samples_per_class, len(classes), plt_idx)\n",
    "        plt.imshow(imgs[idx])\n",
    "        plt.axis('off')\n",
    "        plt.title(cls)\n",
    "plt.show()"
   ]
  },
  {
   "cell_type": "markdown",
   "metadata": {},
   "source": [
    "## Exercise 4: Preparing the data [10 Points]\n",
    "\n",
    "In this exercise you should:\n",
    "* Prepare the data for cross validation (train/test splits)\n",
    "* Preprocess the data for use with the SVM (this can have a **big** effect on the performance!)\n",
    "\n",
    "**NOTE:** You are allowed to use any functions in sklearn for this exercise"
   ]
  },
  {
   "cell_type": "code",
   "execution_count": 31,
   "metadata": {},
   "outputs": [
    {
     "name": "stdout",
     "output_type": "stream",
     "text": [
      "Training data shape: (27995, 256)\n",
      "Training labels shape: (27995,)\n",
      "Test data shape: (7005, 256)\n",
      "Test labels shape: (7005,)\n"
     ]
    }
   ],
   "source": [
    "from sklearn import preprocessing\n",
    "\n",
    "X_train = y_train = X_test = y_test = None\n",
    "\n",
    "#######################################################################\n",
    "# TODO:                                                               #\n",
    "# Arrange the data into train and test sets                           #\n",
    "# Be careful about how you split the data:                            #\n",
    "# - If train and test distribution are very different your test       #\n",
    "#   performance will be poor                                          #\n",
    "# - Think about the sizes of the splits: What are good values and how #\n",
    "#   does this affect your train/test performance?                     #\n",
    "#######################################################################\n",
    "\n",
    "m = np.size(X,0)\n",
    "indices = np.array(range(m))\n",
    "testSize = 0.2 #train size 80%\n",
    "\n",
    "#choose for each digit 0-9 few samples\n",
    "for digit in range(10):\n",
    "    valid_indices = indices[np.where(y == digit)]\n",
    "    valid_X = X[valid_indices]\n",
    "    valid_y = y[valid_indices]\n",
    "    \n",
    "    _X_train, _X_test, _y_train, _y_test = train_test_split(valid_X, valid_y, test_size = testSize)\n",
    "    \n",
    "    if X_train is None:\n",
    "        X_train = _X_train\n",
    "        y_train = _y_train\n",
    "        X_test = _X_test\n",
    "        y_test = _y_test\n",
    "    else:\n",
    "        X_train = np.append(X_train,_X_train, axis=0)\n",
    "        y_train = np.append(y_train, _y_train)\n",
    "        X_test = np.append(X_test, _X_test, axis=0)\n",
    "        y_test = np.append(y_test, _y_test)\n",
    "\n",
    "#######################################################################\n",
    "#                         END OF YOUR CODE                            #\n",
    "#######################################################################\n",
    "\n",
    "\n",
    "def pre_process(x):\n",
    "    #######################################################################\n",
    "    # TODO:                                                               #\n",
    "    # Implement preprocessing of the data before feeding to the SVM.      #\n",
    "    # NOTE: This function will be used to grade the performance on the    #\n",
    "    # held-out test set                                                   #\n",
    "    #######################################################################\n",
    "    \n",
    "    # Features lies between x.min and x.max. Scaling them to -1, 1 seems a standard procedure.\n",
    "    x = np.interp(x, (x.min(), x.max()), (-1, 1))\n",
    "    \n",
    "    #ref https://www.csie.ntu.edu.tw/~cjlin/papers/guide/guide.pdf\n",
    "    \n",
    "    #######################################################################\n",
    "    #                         END OF YOUR CODE                            #\n",
    "    #######################################################################\n",
    "    return x\n",
    "\n",
    "X_train = pre_process(X_train)\n",
    "X_test = pre_process(X_test)\n",
    "\n",
    "print('Training data shape:', X_train.shape)\n",
    "print('Training labels shape:', y_train.shape)\n",
    "print('Test data shape:', X_test.shape)\n",
    "print('Test labels shape:', y_test.shape)"
   ]
  },
  {
   "cell_type": "markdown",
   "metadata": {},
   "source": [
    "## Exercise 5: Training and evaluating a linear SMV [10 Points]\n",
    "\n",
    "Now its time to train a linear SVM on your training data and evaluate its performance on the test set.\n",
    "\n",
    "You should use [sklearn.svm.LinearSVC](http://scikit-learn.org/stable/modules/generated/sklearn.svm.LinearSVC.html#sklearn.svm.LinearSVC) for training the model. See the documentation for usage, arguments, return values and methods."
   ]
  },
  {
   "cell_type": "code",
   "execution_count": 16,
   "metadata": {
    "scrolled": true
   },
   "outputs": [
    {
     "name": "stdout",
     "output_type": "stream",
     "text": [
      "Solving linear-SVM...\n"
     ]
    },
    {
     "name": "stderr",
     "output_type": "stream",
     "text": [
      "C:\\ProgramData\\Anaconda3\\lib\\site-packages\\sklearn\\svm\\_base.py:976: ConvergenceWarning: Liblinear failed to converge, increase the number of iterations.\n",
      "  warnings.warn(\"Liblinear failed to converge, increase \"\n"
     ]
    },
    {
     "data": {
      "image/png": "[encoded data removed]",
      "text/plain": [
       "<Figure size 2160x2880 with 10 Axes>"
      ]
     },
     "metadata": {
      "needs_background": "light"
     },
     "output_type": "display_data"
    }
   ],
   "source": [
    "from sklearn.svm import LinearSVC\n",
    "\n",
    "def train_linear_SVM(X, y, C, max_iter=100):\n",
    "    \"\"\"\n",
    "    Linear multi-class SVM solver.\n",
    "\n",
    "    Args:\n",
    "        X: Data matrix of shape [num_train, num_features]\n",
    "        y: Labels corresponding to X of size [num_train]\n",
    "        C: Hyper-parameter for SVM\n",
    "        max_iter: Maximum number of iterations\n",
    "\n",
    "    Returns:\n",
    "        lin_clf: The learnt classifier (LinearSVC instance)\n",
    "\n",
    "    \"\"\"\n",
    "    lin_clf = None\n",
    "    print('Solving linear-SVM...')\n",
    "\n",
    "    #######################################################################\n",
    "    # TODO:                                                               #\n",
    "    # Train the SVM using LinearSVC and return the learnt classifier      #\n",
    "    #######################################################################\n",
    "\n",
    "    lin_clf = LinearSVC(C=C, max_iter = max_iter)\n",
    "    lin_clf.fit(X,y)\n",
    "\n",
    "    #######################################################################\n",
    "    #                         END OF YOUR CODE                            #\n",
    "    #######################################################################\n",
    "    return lin_clf\n",
    "\n",
    "C = 5.0\n",
    "lin_clf = train_linear_SVM(X_train, y_train, C)\n",
    "\n",
    "#######################################################################\n",
    "# TODO:                                                               #\n",
    "# Visualize the learnt weights (lin_clf.coef_) for all the classes:   #\n",
    "# - Make a plot with ten figures showing the respective weights for   #\n",
    "#   each of the classes                                               #\n",
    "#######################################################################\n",
    "\n",
    "numClasses = lin_clf.coef_.shape[0]\n",
    "numCoef = lin_clf.coef_.shape[1]\n",
    "\n",
    "fig, axs = plt.subplots(numClasses,1,figsize=(30,40))\n",
    "for n in range(numClasses):\n",
    "    axs[n].set_title(str(n))\n",
    "    axs[n].bar(np.arange(numCoef),lin_clf.coef_[n,:])\n",
    "plt.show()\n",
    "\n",
    "#######################################################################\n",
    "#                         END OF YOUR CODE                            #\n",
    "#######################################################################\n"
   ]
  },
  {
   "cell_type": "markdown",
   "metadata": {},
   "source": [
    "## Exercise 7: Evaluating a multi-class classifier [10 Points]\n",
    "\n",
    "You should now evaluate you learnt classifier. For this you have to:\n",
    "* Compute predictions on the train and test sets\n",
    "* Compute the accuracy of the predictions\n",
    "* Compute the confusion matrix (see [here](https://en.wikipedia.org/wiki/Confusion_matrix) for info)\n",
    "* Answer the question below\n",
    "\n",
    "**Note:** You can make use of sklearn.metrics\n"
   ]
  },
  {
   "cell_type": "code",
   "execution_count": 17,
   "metadata": {},
   "outputs": [
    {
     "name": "stdout",
     "output_type": "stream",
     "text": [
      "Linear SVM accuracy train: 0.8130380425075906\n",
      "Linear SVM accuracy test: 0.8025695931477516\n",
      "Confusion matrix:\n",
      "[[677   0   2   4   9   1   0   0   3   0]\n",
      " [  0 698   6  13   4   1   0   2  51   0]\n",
      " [  1   6 623  17  30   1   0   7  22   0]\n",
      " [  0   1  22 688   2   2   0   5   5   3]\n",
      " [  2   0   0   7 656   0   0   0   9   1]\n",
      " [ 10   4  19 174  62 304   1   2  47   2]\n",
      " [ 18   2  93  26  70   5 442   3  34   0]\n",
      " [  3   2  12  19  22   1   0 650   5   4]\n",
      " [  5   2  15  60  27   4   0   3 562   1]\n",
      " [  5   1   5 113 211   0   0  31  21 322]]\n"
     ]
    }
   ],
   "source": [
    "from sklearn.metrics import accuracy_score, confusion_matrix\n",
    "\n",
    "def eval_clf(y_pred_train, y_train, y_pred_test, y_test):\n",
    "    #######################################################################\n",
    "    # TODO:                                                               #\n",
    "    # Use the learnt classifier to make predictions on the test set.      #\n",
    "    # Compute the accuracy on train and test sets.                        #\n",
    "    # Compute the confusion matrix on the test set.                       #\n",
    "    #######################################################################\n",
    "\n",
    "    #acc_test = acc_train = cm_test = None\n",
    "    acc_test = accuracy_score(y_test, y_pred_test)\n",
    "    acc_train = accuracy_score(y_train, y_pred_train)\n",
    "    cm_test = confusion_matrix(y_test, y_pred_test)\n",
    "\n",
    "    #######################################################################\n",
    "    #                         END OF YOUR CODE                            #\n",
    "    #######################################################################\n",
    "    return acc_train, acc_test, cm_test\n",
    "\n",
    "acc_train, acc_test, cm_test = eval_clf(\n",
    "    lin_clf.predict(X_train),\n",
    "    y_train,\n",
    "    lin_clf.predict(X_test),\n",
    "    y_test)\n",
    "print(\"Linear SVM accuracy train: {}\".format(acc_train))\n",
    "print(\"Linear SVM accuracy test: {}\".format(acc_test))\n",
    "print(\"Confusion matrix:\\n%s\" % cm_test)\n"
   ]
  },
  {
   "cell_type": "markdown",
   "metadata": {},
   "source": [
    "## Question: \n",
    "* Which pair of digits does the classifier confuse most often?\n",
    "\n",
    "***Your Answer:***\n",
    "Find the highest values not on the diagonal, which are 43=[3,5], 40=[7,9], 38=[8,5]. This means, given predicted is the column from 0..9 and test is the row from 0..9, that most often the classifier is confused with predicting the number 5 instead of 3 and predicting the number 9 instead of 7. Sometimes re-running the training gives very different results on the confusion matrix. \n",
    "\n",
    "After comparing some confusion matrices the highest numbers were usually within the rows of 3, 8 and 9 and most notably the pair of 4 and 9 got confused the most often."
   ]
  },
  {
   "cell_type": "markdown",
   "metadata": {},
   "source": [
    "## Exercise 7: Training and evaluating a SMV with Gaussian kernel [10 Points]\n",
    "\n",
    "Now you will train a SVM with Gaussian kernel (also called RBF kernel).\n",
    "\n",
    "You should use [sklearn.svm.SVC](http://scikit-learn.org/stable/modules/generated/sklearn.svm.SVC.html) for training the model. See the documentation for usage, arguments and return values.\n",
    "Experiment with values for the hyper-parameters $C$ and $\\gamma$ and answer the question below."
   ]
  },
  {
   "cell_type": "code",
   "execution_count": 29,
   "metadata": {},
   "outputs": [
    {
     "name": "stdout",
     "output_type": "stream",
     "text": [
      "Solving RBF-SVM: This can take a while...\n"
     ]
    },
    {
     "name": "stderr",
     "output_type": "stream",
     "text": [
      "C:\\ProgramData\\Anaconda3\\lib\\site-packages\\sklearn\\svm\\_base.py:246: ConvergenceWarning: Solver terminated early (max_iter=100).  Consider pre-processing your data with StandardScaler or MinMaxScaler.\n",
      "  warnings.warn('Solver terminated early (max_iter=%i).'\n"
     ]
    },
    {
     "name": "stdout",
     "output_type": "stream",
     "text": [
      "RBF SVM accuracy train: 0.9920700125022326\n",
      "RBF SVM accuracy test: 0.9700214132762313\n",
      "Confusion matrix:\n",
      "[[689   0   2   0   0   0   4   0   1   0]\n",
      " [  0 770   0   0   0   0   1   3   0   1]\n",
      " [  5   1 692   1   4   0   0   1   3   0]\n",
      " [  1   1   3 709   0   8   0   3   2   1]\n",
      " [  0   0   0   0 660   0   3   1   0  11]\n",
      " [  2   0   0   5   3 604   6   0   3   2]\n",
      " [  6   1   0   0   2   0 684   0   0   0]\n",
      " [  0   4  11   1   4   0   0 692   0   6]\n",
      " [  3   2   9  18   0   4   2   1 638   2]\n",
      " [  5   2   1  11  24   0   0   4   5 657]]\n"
     ]
    }
   ],
   "source": [
    "from sklearn.svm import SVC\n",
    "from sklearn.metrics import accuracy_score\n",
    "\n",
    "\n",
    "def train_gaussian_SVM(X, y, C, gamma, max_iter=100):\n",
    "    \"\"\"\n",
    "    Multi-class SVM solver with Gaussian kernel.\n",
    "\n",
    "    Args:\n",
    "        X: Data matrix of shape [num_train, num_features]\n",
    "        y: Labels corresponding to X of size [num_train]\n",
    "        C: Hyper-parameter for SVM\n",
    "        max_iter: Maximum number of iterations\n",
    "\n",
    "    Returns:\n",
    "        w: The value of the parameters after logistic regression\n",
    "\n",
    "    \"\"\"\n",
    "    print('Solving RBF-SVM: This can take a while...')\n",
    "    \n",
    "    #######################################################################\n",
    "    # TODO:                                                               #\n",
    "    # Train the SVM using LinearSVC and return the learnt classifier      #\n",
    "    #######################################################################\n",
    "\n",
    "    # The TODO above states to use linearSVC, but this Exercise 7 seems SVM\n",
    "    # with Gaussian kernel (also called RBF kernel). Thus I am a bit confused.\n",
    "    # My decision is as follows:\n",
    "    clf_rbf = SVC(C = C,  kernel='rbf', gamma = gamma, max_iter = max_iter)\n",
    "    clf_rbf.fit(X,y)\n",
    "\n",
    "    #######################################################################\n",
    "    #                         END OF YOUR CODE                            #\n",
    "    #######################################################################\n",
    "    return clf_rbf\n",
    "\n",
    "C = 100\n",
    "gamma = 0.1\n",
    "clf_rbf = train_gaussian_SVM(X_train, y_train, C, gamma=gamma)\n",
    "\n",
    "acc_train, acc_test, cm_test = eval_clf(\n",
    "    clf_rbf.predict(X_train),\n",
    "    y_train,\n",
    "    clf_rbf.predict(X_test),\n",
    "    y_test)\n",
    "print(\"RBF SVM accuracy train: {}\".format(acc_train))\n",
    "print(\"RBF SVM accuracy test: {}\".format(acc_test))\n",
    "print(\"Confusion matrix:\\n%s\" % cm_test)"
   ]
  },
  {
   "cell_type": "markdown",
   "metadata": {},
   "source": [
    "## Exercise 8: Changing data size [5 Points]"
   ]
  },
  {
   "cell_type": "markdown",
   "metadata": {},
   "source": [
    "Let us also investigate how the amount of the data influence the performance of the model. You will extract a randomly chosen part of the training data with reduced size to train the model on."
   ]
  },
  {
   "cell_type": "code",
   "execution_count": 57,
   "metadata": {},
   "outputs": [
    {
     "name": "stdout",
     "output_type": "stream",
     "text": [
      "Solving RBF-SVM: This can take a while...\n"
     ]
    },
    {
     "name": "stderr",
     "output_type": "stream",
     "text": [
      "C:\\ProgramData\\Anaconda3\\lib\\site-packages\\sklearn\\svm\\_base.py:246: ConvergenceWarning: Solver terminated early (max_iter=100).  Consider pre-processing your data with StandardScaler or MinMaxScaler.\n",
      "  warnings.warn('Solver terminated early (max_iter=%i).'\n"
     ]
    },
    {
     "name": "stdout",
     "output_type": "stream",
     "text": [
      "RBF SVM accuracy train: 1.0\n",
      "RBF SVM accuracy test: 0.9511777301927195\n",
      "Confusion matrix:\n",
      "[[682   0   0   1   0   2   3   1   6   1]\n",
      " [  0 763   0   0   2   2   3   1   2   2]\n",
      " [  4   0 663   6  11   2   8   5   6   2]\n",
      " [  3   4   7 686   0  15   2   5   4   2]\n",
      " [  1   1   3   1 640   2   7   4   4  12]\n",
      " [  3   2   7  16   1 580  11   0   3   2]\n",
      " [  2   1   2   0   4   4 679   0   1   0]\n",
      " [  0   3   6   5   5   1   0 690   1   7]\n",
      " [  2   6   4  12   4   8   7   3 630   3]\n",
      " [  6   4   1   7  20   4   1  14   2 650]]\n"
     ]
    }
   ],
   "source": [
    "def extract_data_part(X, y, part):    \n",
    "    #######################################################################\n",
    "    # TODO:                                                               #\n",
    "    # Randomly choose part of the data with size part*X.shape[0]          #\n",
    "    # Return X_part, y_part                                               #\n",
    "    #######################################################################\n",
    "    \n",
    "    # use method train_test_split which does the job\n",
    "    if part < 1.0:\n",
    "        X_nouse, X_part, y_nouse, y_part = train_test_split(X, y, test_size = part)\n",
    "    else: \n",
    "        X_part = X\n",
    "        y_part = y\n",
    "    \n",
    "    #######################################################################\n",
    "    #                         END OF YOUR CODE                            #\n",
    "    #######################################################################\n",
    "    \n",
    "    return X_part, y_part\n",
    "\n",
    "\n",
    "part = 0.1\n",
    "X_train_part, y_train_part = extract_data_part(X_train, y_train, part)\n",
    "X_train_part = pre_process(X_train_part)\n",
    "\n",
    "C = 100.0\n",
    "gamma = 'scale'\n",
    "clf_rbf_part = train_gaussian_SVM(X_train_part, y_train_part, C, gamma)\n",
    "\n",
    "acc_train, acc_test, cm_test = eval_clf(\n",
    "    clf_rbf_part.predict(X_train_part),\n",
    "    y_train_part,\n",
    "    clf_rbf_part.predict(X_test),\n",
    "    y_test)\n",
    "print(\"RBF SVM accuracy train: {}\".format(acc_train))\n",
    "print(\"RBF SVM accuracy test: {}\".format(acc_test))\n",
    "print(\"Confusion matrix:\\n%s\" % cm_test)"
   ]
  },
  {
   "cell_type": "markdown",
   "metadata": {},
   "source": [
    "The model is apparently overfitted. Seems like the proper regularization could help. Try to tune the hyperparameters $C$ and $\\gamma$ to make the performance of the model as close to the one trained on the whole dataset as possible."
   ]
  },
  {
   "cell_type": "markdown",
   "metadata": {},
   "source": [
    "Now let's change the data size and plot the accuracy of the model depending on the size of the dataset."
   ]
  },
  {
   "cell_type": "code",
   "execution_count": 58,
   "metadata": {},
   "outputs": [
    {
     "name": "stdout",
     "output_type": "stream",
     "text": [
      "Training the model for 10.0% of the train data\n",
      "Solving RBF-SVM: This can take a while...\n"
     ]
    },
    {
     "name": "stderr",
     "output_type": "stream",
     "text": [
      "C:\\ProgramData\\Anaconda3\\lib\\site-packages\\sklearn\\svm\\_base.py:246: ConvergenceWarning: Solver terminated early (max_iter=100).  Consider pre-processing your data with StandardScaler or MinMaxScaler.\n",
      "  warnings.warn('Solver terminated early (max_iter=%i).'\n"
     ]
    },
    {
     "name": "stdout",
     "output_type": "stream",
     "text": [
      "Training the model for 30.0% of the train data\n",
      "Solving RBF-SVM: This can take a while...\n"
     ]
    },
    {
     "name": "stderr",
     "output_type": "stream",
     "text": [
      "C:\\ProgramData\\Anaconda3\\lib\\site-packages\\sklearn\\svm\\_base.py:246: ConvergenceWarning: Solver terminated early (max_iter=100).  Consider pre-processing your data with StandardScaler or MinMaxScaler.\n",
      "  warnings.warn('Solver terminated early (max_iter=%i).'\n"
     ]
    },
    {
     "name": "stdout",
     "output_type": "stream",
     "text": [
      "Training the model for 50.0% of the train data\n",
      "Solving RBF-SVM: This can take a while...\n"
     ]
    },
    {
     "name": "stderr",
     "output_type": "stream",
     "text": [
      "C:\\ProgramData\\Anaconda3\\lib\\site-packages\\sklearn\\svm\\_base.py:246: ConvergenceWarning: Solver terminated early (max_iter=100).  Consider pre-processing your data with StandardScaler or MinMaxScaler.\n",
      "  warnings.warn('Solver terminated early (max_iter=%i).'\n"
     ]
    },
    {
     "name": "stdout",
     "output_type": "stream",
     "text": [
      "Training the model for 70.0% of the train data\n",
      "Solving RBF-SVM: This can take a while...\n"
     ]
    },
    {
     "name": "stderr",
     "output_type": "stream",
     "text": [
      "C:\\ProgramData\\Anaconda3\\lib\\site-packages\\sklearn\\svm\\_base.py:246: ConvergenceWarning: Solver terminated early (max_iter=100).  Consider pre-processing your data with StandardScaler or MinMaxScaler.\n",
      "  warnings.warn('Solver terminated early (max_iter=%i).'\n"
     ]
    },
    {
     "name": "stdout",
     "output_type": "stream",
     "text": [
      "Training the model for 100.0% of the train data\n",
      "Solving RBF-SVM: This can take a while...\n"
     ]
    },
    {
     "name": "stderr",
     "output_type": "stream",
     "text": [
      "C:\\ProgramData\\Anaconda3\\lib\\site-packages\\sklearn\\svm\\_base.py:246: ConvergenceWarning: Solver terminated early (max_iter=100).  Consider pre-processing your data with StandardScaler or MinMaxScaler.\n",
      "  warnings.warn('Solver terminated early (max_iter=%i).'\n"
     ]
    }
   ],
   "source": [
    "train_accs = list()\n",
    "test_accs = list()\n",
    "\n",
    "part_range = [0.1, 0.3, 0.5, 0.7, 1.0]\n",
    "for part in part_range:\n",
    "    print(\"Training the model for {}% of the train data\".format(part * 100))\n",
    "    #######################################################################\n",
    "    # TODO:                                                               #\n",
    "    # Extract the corresponding part of the training data                 #\n",
    "    # Train the model and evaluate train and test accuracies              #\n",
    "    #######################################################################\n",
    "\n",
    "    acc_train = acc_test = None\n",
    "    \n",
    "    X_train_part, y_train_part = extract_data_part(X_train, y_train, part)\n",
    "    X_train_part = pre_process(X_train_part)\n",
    "\n",
    "    C = 100.0\n",
    "    gamma = 'scale'\n",
    "    clf_rbf_part = train_gaussian_SVM(X_train_part, y_train_part, C, gamma)\n",
    "\n",
    "    acc_train, acc_test, cm_test = eval_clf(\n",
    "        clf_rbf_part.predict(X_train_part),\n",
    "        y_train_part,\n",
    "        clf_rbf_part.predict(X_test),\n",
    "        y_test)\n",
    "    \n",
    "    #######################################################################\n",
    "    #                         END OF YOUR CODE                            #\n",
    "    #######################################################################\n",
    "    \n",
    "    train_accs.append(acc_train)\n",
    "    test_accs.append(acc_test)"
   ]
  },
  {
   "cell_type": "code",
   "execution_count": 59,
   "metadata": {},
   "outputs": [
    {
     "data": {
      "image/png": "[encoded data removed]",
      "text/plain": [
       "<Figure size 720x360 with 1 Axes>"
      ]
     },
     "metadata": {
      "needs_background": "light"
     },
     "output_type": "display_data"
    }
   ],
   "source": [
    "plt.figure(figsize=(10, 5))\n",
    "plt.title(\"Accuracy depending on data size\", fontsize=15)\n",
    "plt.plot(part_range, train_accs, label=\"train_acc\")\n",
    "plt.plot(part_range, test_accs, label=\"test_acc\")\n",
    "plt.xticks(part_range, part_range)\n",
    "plt.legend(fontsize=15)\n",
    "plt.show()"
   ]
  },
  {
   "cell_type": "markdown",
   "metadata": {},
   "source": [
    "## Question:\n",
    "* How do the hyper-parameters influence the classifier? What happens for extreme values of the hyper-parameters?\n",
    "\n",
    "***Your Answer:***\n",
    "Here some values:\n",
    "C   gamma   acc_train   acc_test   confusion\n",
    "100 10      0.3         0.3        big (means bad recognition)\n",
    "100 'scale' 0.98        0.96       low (means very good rec.)\n",
    "100 0.1     0.99        0.97       low\n",
    "1   0.1     0.99        0.96       low\n",
    "1   10      0.9         0.9        low\n",
    "10000 10    0.3         0.29       big\n",
    "100 10000   0.1         0.1        nonsense\n",
    "\n",
    "The quality of the classifier is highly dependent of the hyperparameter. gamma='scale' is a good choice. If C and gamma \n",
    "are badly choosen the performance is very poor, with accuracy around 30%. For C big (10'000) performance is poor,\n",
    "for gamma very big (10'000) the classifier is useless.\n",
    "\n",
    "\n",
    "* What can you say about the influence of the data size on the performance of the model?\n",
    "\n",
    "***Your Answer:***\n",
    "Increasing the data size tend to result in 1.5% accuracy increase in test data but 1.5% decrease in training data accuracy.\n",
    "For few samples, train accuracy is near 100% because the classifier can adjust to those few data very well. On the other side, more test data will train better thus result in better accuracy for the testdata. "
   ]
  },
  {
   "cell_type": "markdown",
   "metadata": {},
   "source": [
    "## Exercise 9: Questions [10 Points]\n",
    "\n",
    "Answer the following questions and justify your answers:\n",
    "\n",
    "* How does your implementation of the linear SVM (Pegasos) compare to the classifiers of the previous assignment? Which method is the most accurate? Which one the fastest to train? Which one is the most versatile?\n",
    "\n",
    "\t***Your Answer:***\n",
    "    Pegasos faster than classifiers of previous assignment. Its implementation seems quite simple. \n",
    "\n",
    "\n",
    "* Linear SVM vs. Gaussian Kernel SVM: Give advantages and disadvantages of both approaches. \n",
    "\n",
    "\t***Your Answer:***\n",
    "    Gauss Kernel moste accurate. Seems slower running time than linear. \n",
    "\n",
    "\n",
    "* Linear SVM vs. Gaussian Kernel SVM: In what setting would you pick one method over the other? Answer in terms of number of training examples $m_{train}$ and feature dimension $d$\n",
    "\n",
    "\t***Your Answer:***\n",
    "    I think for Gauss Kernel more training samples are required to get high accuracy, because with only a few samples the stohastic model can have any distribution. Thus linear SVM works better with less samples. "
   ]
  },
  {
   "cell_type": "markdown",
   "metadata": {},
   "source": [
    "## Bonus: Tune those Hyper-Parameters! [10 Points]\n",
    "\n",
    "Perform hyper-parameter tuning for the two multi-class SVMs. Your performance will be measured on a held-out test set and the **10% best scoring submissions get 5 bonus points** (5 points for linear-SVM and 5 points for RBF-SVM). \n",
    "\n",
    "Set the best parameter values above. The performance will be **tested with max_iter=100**!\n",
    "\n",
    "Additional 5 points can be gained by demonstrating a principled approach for hyper-parameter search below. For ideas refer to:\n",
    "http://scikit-learn.org/stable/modules/grid_search.html\n"
   ]
  },
  {
   "cell_type": "code",
   "execution_count": null,
   "metadata": {},
   "outputs": [],
   "source": [
    "# Your optional hyper-parameter tuning code goes here..."
   ]
  }
 ],
 "metadata": {
  "anaconda-cloud": {},
  "kernelspec": {
   "display_name": "Python 3",
   "language": "python",
   "name": "python3"
  },
  "language_info": {
   "codemirror_mode": {
    "name": "ipython",
    "version": 3
   },
   "file_extension": ".py",
   "mimetype": "text/x-python",
   "name": "python",
   "nbconvert_exporter": "python",
   "pygments_lexer": "ipython3",
   "version": "3.8.3"
  }
 },
 "nbformat": 4,
 "nbformat_minor": 1
}
