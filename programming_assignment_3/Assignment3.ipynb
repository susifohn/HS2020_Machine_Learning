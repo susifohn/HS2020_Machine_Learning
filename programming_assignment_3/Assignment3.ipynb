{
 "cells": [
  {
   "cell_type": "markdown",
   "metadata": {},
   "source": [
    "# Assignment 3: Unsupervised Learning\n",
    "\n",
    "In this assignment you will:\n",
    "* Implement K-means clustering and use it for color-quantization of images\n",
    "* Train a MoG model by implementing the EM algorithm. Compare to K-means on the same test data. \n",
    "* Use MoG for image segmentation\n",
    "* Get familiar with spectral clustering"
   ]
  },
  {
   "cell_type": "markdown",
   "metadata": {},
   "source": [
    "# Part 1: K-Means Clustering\n",
    "\n",
    "## Setup\n",
    "\n",
    "First import the required packages and do some setup:"
   ]
  },
  {
   "cell_type": "code",
   "execution_count": null,
   "metadata": {},
   "outputs": [],
   "source": [
    "from __future__ import print_function\n",
    "\n",
    "import time\n",
    "import numpy as np\n",
    "import matplotlib.pyplot as plt\n",
    "from scipy.io import loadmat\n",
    "import imageio\n",
    "from sklearn.model_selection import train_test_split\n",
    "from sklearn.datasets import make_circles\n",
    "from scipy.stats import multivariate_normal\n",
    "from assignment3 import kmeans, kmeans_colors, spectral_clustering, em_mog, em_segmentation\n",
    "\n",
    "# Set default parameters for plots\n",
    "plt.rcParams['figure.figsize'] = (8.0, 8.0)\n",
    "plt.rcParams['image.interpolation'] = 'nearest'\n",
    "plt.rcParams['image.cmap'] = 'jet'\n",
    "\n",
    "%load_ext autoreload\n",
    "%autoreload 2"
   ]
  },
  {
   "cell_type": "markdown",
   "metadata": {},
   "source": [
    "Let's generate some test-data for you to test your implementation of the k-means and EM algorithm. Note that we generate gaussian blobs with non-isotropic covariance matrices. "
   ]
  },
  {
   "cell_type": "code",
   "execution_count": null,
   "metadata": {},
   "outputs": [],
   "source": [
    "# Generate samples of 4 different gaussians\n",
    "rv1 = multivariate_normal.rvs([4.0, -3.], [[4.0, 1.5], [1.5, 1.1]], size=400)\n",
    "rv2 = multivariate_normal.rvs([4.0, 3.5], [[1.0, 1.3], [1.3, 2.75]], size=500)\n",
    "rv3 = multivariate_normal.rvs([-3.5, -4.0], [[0.5, 1.0], [1.0, 3.]], size=600)\n",
    "rv4 = multivariate_normal.rvs([-3., 3.], [[2.5, 0.1], [0.1, 1.5]], size=700)\n",
    "\n",
    "# Concatenate the samples and create corresponding labels\n",
    "X = np.concatenate([rv1, rv2, rv3, rv4], 0)\n",
    "y = np.array([0]*400+[1]*500+[2]*600+[3]*700)\n",
    "\n",
    "# Plot the test data\n",
    "plt.scatter(X[:, 0], X[:, 1], c=y)\n",
    "plt.title(\"Test Blobs\")\n",
    "plt.show()"
   ]
  },
  {
   "cell_type": "markdown",
   "metadata": {},
   "source": [
    "## Exercise 1: K-Means Clustering [20 Points]\n",
    "\n",
    "You will now implement the standard k-means clustering algorithm and test it on the generated test data. \n",
    "\n",
    "**TODO**: Implement the k-means clustering algorithm in ***kmeans.py*** accroding to specs and test your implementation with the provided test data.\n"
   ]
  },
  {
   "cell_type": "code",
   "execution_count": null,
   "metadata": {},
   "outputs": [],
   "source": [
    "def plot_clusters(X, num_clusters, clustering_algorithm):\n",
    "    centers, assign = clustering_algorithm(X, num_clusters)\n",
    "    plt.clf()\n",
    "    plt.scatter(X[:, 0], X[:, 1], c=assign)\n",
    "    plt.scatter(centers[:, 0], centers[:, 1], c='r', marker='x')\n",
    "    plt.title(\"Predicted clustering\")\n",
    "    plt.show()"
   ]
  },
  {
   "cell_type": "code",
   "execution_count": null,
   "metadata": {
    "scrolled": false
   },
   "outputs": [],
   "source": [
    "# Test your implementation\n",
    "plot_clusters(X, 4, kmeans)"
   ]
  },
  {
   "cell_type": "markdown",
   "metadata": {},
   "source": [
    "## Exercise 2: Questions about K-means [10 Points]\n",
    "\n",
    "* Does k-means always result in the same clustering? Why?\n",
    "\n",
    "***Your Answer:***\n",
    "\n",
    "* Would you expect K-means to work better in the case of data generated from isotropic gaussian distributions? Why?\n",
    "\n",
    "***Your Answer:***"
   ]
  },
  {
   "cell_type": "markdown",
   "metadata": {},
   "source": [
    "## Exercise 3: Using k-means for image compression [15 Points]\n",
    "\n",
    "You will now use K-means to cluster pixel values of an image and use the cluster assignments as a way to quantize/compress the color-space of the image. Replace each pixel with the mean of the assigned cluster.\n",
    "You should use the implementation provided through sklearn in this exercise ([sklearn.cluster.KMeans](http://scikit-learn.org/stable/modules/generated/sklearn.cluster.KMeans.html)).\n",
    "\n",
    "Feel free to test the algorithm on your own images and with different number of clusters.\n",
    "\n",
    "**TODO**: Implement the color-quantization through k-means in ***kmeans_colors.py*** according to specs. \n"
   ]
  },
  {
   "cell_type": "code",
   "execution_count": null,
   "metadata": {
    "scrolled": false
   },
   "outputs": [],
   "source": [
    "# Load and show test image\n",
    "img = imageio.imread('lena.jpg')\n",
    "plt.imshow(img)\n",
    "plt.title(\"Original image\")\n",
    "plt.show()\n",
    "\n",
    "# Compute quantized image\n",
    "k = 4\n",
    "img_cl = kmeans_colors(img, k)\n",
    "\n",
    "# Show the quantized image\n",
    "plt.imshow(img_cl)\n",
    "plt.title(\"Quantized image\")\n",
    "plt.show()"
   ]
  },
  {
   "cell_type": "markdown",
   "metadata": {},
   "source": [
    "# Part 2: Expectation Maximization\n",
    "\n",
    "In the second part of the assignment you will implement the EM algorithm for Mixture of Gaussian (MoG) models. You will then use this model on the problem of image-segmentation.\n",
    "\n",
    "\n",
    "## Exercise 4: EM for MoG [30 Points]\n",
    "\n",
    "**TODO:** Implement the **EM** algorithm for Mixture of Gaussian models in **em_mog.py** according to specs. Test your implementation on the provided test data.  "
   ]
  },
  {
   "cell_type": "code",
   "execution_count": null,
   "metadata": {
    "scrolled": false
   },
   "outputs": [],
   "source": [
    "# Test your implementation\n",
    "phi, mu, sigma, w = em_mog(X, 4)\n",
    "plt.clf()\n",
    "plt.scatter(X[:, 0], X[:, 1], c=np.argmax(w, 1))\n",
    "plt.scatter(mu[:, 0], mu[:, 1], c='r', marker='x')\n",
    "plt.title(\"Predicted clustering\")\n",
    "plt.show()"
   ]
  },
  {
   "cell_type": "markdown",
   "metadata": {},
   "source": [
    "\n",
    "## Exercise 5: Questions about MoG [10 Points]\n",
    "\n",
    "* Does the MoG model perform better on the provided test data? Why?\n",
    "\n",
    "***Your Answer:***\n",
    "\n",
    "* What are advantages and disantages of MoG vs. K-means?\n",
    "\n",
    "***Your Answer:***"
   ]
  },
  {
   "cell_type": "markdown",
   "metadata": {},
   "source": [
    "\n",
    "## Exercise 6: Image Segmentation with MoG [15 Points]\n",
    "\n",
    "Image segmentation is the process of partitioning an image into multiple segments. The goal of segmentation is to simplify and/or change the representation of an image into something that is more meaningful and easier to analyze.\n",
    "\n",
    "In this exercise you will implement image segmentation by fitting a MoG model via EM. For this you will not only cluster the pixel colors (RGB) but extend the pixel features with their 2D coordinates. Hence, the clustered pixel features are of the form RGBXY. This allows for additional locality of the segments.\n",
    "\n",
    "You should use the implementation provided through sklearn in this exercise ([sklearn.mixture.GaussianMixture](http://scikit-learn.org/stable/modules/generated/sklearn.mixture.GaussianMixture.html)).\n",
    "\n",
    "Feel free to test the algorithm on your own images and with different number of segments.\n",
    "\n",
    "**TODO:** Implement the image-segmentation in ***em_segmentation.py*** according to specs.  "
   ]
  },
  {
   "cell_type": "code",
   "execution_count": null,
   "metadata": {},
   "outputs": [],
   "source": [
    "# Load and show test image\n",
    "img = imageio.imread('test.jpg')\n",
    "plt.imshow(img)\n",
    "plt.title(\"Original image\")\n",
    "plt.show()\n",
    "\n",
    "# Compute segmented image\n",
    "img_seg = em_segmentation(img, 8)\n",
    "plt.imshow(img_seg)\n",
    "plt.title(\"segmented image\")\n",
    "plt.show()"
   ]
  },
  {
   "cell_type": "markdown",
   "metadata": {},
   "source": [
    "## Bonus: Spectral clustering [15 points]"
   ]
  },
  {
   "cell_type": "markdown",
   "metadata": {},
   "source": [
    "In some cases the structure of the data itself makes it difficult for algorithms like K-means to work. Can you think of some cases, when K-means will not work?\n",
    "\n",
    "In this section we will generate such kind of data."
   ]
  },
  {
   "cell_type": "code",
   "execution_count": null,
   "metadata": {},
   "outputs": [],
   "source": [
    "X, y = make_circles(n_samples=1000, factor=0.5, noise=0.05)\n",
    "\n",
    "# Plot test data\n",
    "plt.scatter(X[:, 0], X[:, 1], c=y)\n",
    "plt.title(\"Test Circles\")\n",
    "plt.show()"
   ]
  },
  {
   "cell_type": "markdown",
   "metadata": {},
   "source": [
    "Let us try apply K-means clustering at first."
   ]
  },
  {
   "cell_type": "code",
   "execution_count": null,
   "metadata": {
    "scrolled": true
   },
   "outputs": [],
   "source": [
    "plot_clusters(X, 2, kmeans)"
   ]
  },
  {
   "cell_type": "markdown",
   "metadata": {},
   "source": [
    "K-means clearly doesn't work in this case. However there exist some algorithms, that can deal with such data structure. One of them is **spectral clustering**. "
   ]
  },
  {
   "cell_type": "markdown",
   "metadata": {},
   "source": [
    "In every clustering algorithm the starting point is a $N$ x $N$ matrix of pairwise similarities $s_{ij} > 0, \\; i, j = 1 \\dots N$. For **spectral clustering** we will use the radial-kernel gram matrix as similarities matrix, i.e. $$s_{ij} = \\exp\\left(\\frac{-d_{ij}^2}{c}\\right),$$ where $d_{ij}$ is the Euclidian distance between $x_i$ and $x_j$, and $c > 0$ is a scale parameter.\n",
    "\n",
    "Besides this, we will assign a fully connected weighted graph to the data with nodes $v_i$ at data points and edge weights equal to $w_{ij} = s_{ij}$. A $N$ x $N$ matrix of edge weights $W = \\{w_{ij}\\}$ is called *adjacency matrix*. The *degree* of node $v_i$ is $g_i = \\sum_{j} w_{ij}$. Let $G$ be a diagonal matrix with diagonal elements $g_i$.\n",
    "\n",
    "Finally, the *graph Laplacian* is defined by $$L = G - W$$\n",
    "\n",
    "Spectral clustering finds the $m$ eigenvectors $Z_{N x m}$ corresponding o the $m$ smallest eigenvalues of $L$ (ignoring the trivial constant eigenvector). Using K-means we then cluster the rows of $Z_{N x m}$ to yield a clustering of the original data.\n",
    "\n",
    "For those who want to learn why this works we suggest reading https://web.stanford.edu/~hastie/ElemStatLearn/ (pg. 544)"
   ]
  },
  {
   "cell_type": "markdown",
   "metadata": {},
   "source": [
    "**TODO:** Implement the **spectral clustering** algorithm in **spectral_clustering.py** accroding to specs and test your implementation with the provided test data."
   ]
  },
  {
   "cell_type": "code",
   "execution_count": null,
   "metadata": {
    "scrolled": true
   },
   "outputs": [],
   "source": [
    "Z, assign = spectral_clustering(X, 2)"
   ]
  },
  {
   "cell_type": "markdown",
   "metadata": {},
   "source": [
    "Let us plot the selected eigenvectors"
   ]
  },
  {
   "cell_type": "code",
   "execution_count": null,
   "metadata": {},
   "outputs": [],
   "source": [
    "first_eigenvector = Z[:, 0]\n",
    "second_eigenvector = Z[:, 1]\n",
    "\n",
    "plt.figure(figsize=(16, 4))\n",
    "for i, v in enumerate([first_eigenvector, second_eigenvector]):\n",
    "    plt.subplot(1, 2, i + 1)\n",
    "    plt.scatter(np.arange(v.size), v)\n",
    "    plt.title(\"Eigenvector {}\".format(i + 1))"
   ]
  },
  {
   "cell_type": "markdown",
   "metadata": {},
   "source": [
    "Finally, let us plot the resulting clusters"
   ]
  },
  {
   "cell_type": "code",
   "execution_count": null,
   "metadata": {
    "scrolled": true
   },
   "outputs": [],
   "source": [
    "plt.clf()\n",
    "plt.scatter(X[:, 0], X[:, 1], c=assign)\n",
    "plt.title(\"Predicted clustering\")\n",
    "plt.show()"
   ]
  }
 ],
 "metadata": {
  "anaconda-cloud": {},
  "kernelspec": {
   "display_name": "Python 3",
   "language": "python",
   "name": "python3"
  },
  "language_info": {
   "codemirror_mode": {
    "name": "ipython",
    "version": 3
   },
   "file_extension": ".py",
   "mimetype": "text/x-python",
   "name": "python",
   "nbconvert_exporter": "python",
   "pygments_lexer": "ipython3",
   "version": "3.6.6"
  }
 },
 "nbformat": 4,
 "nbformat_minor": 1
}
